{
 "cells": [
  {
   "cell_type": "code",
   "execution_count": 30,
   "metadata": {},
   "outputs": [
    {
     "name": "stdout",
     "output_type": "stream",
     "text": [
      "ReadStations\n",
      "['python', 'get-observations_csv.py', '-a', 'CxS0G8bnxEGIOXolz/PBow==', '-s', '1.15.0', '-p', '1001', '-r', '1440', '-t', '/P1D']\n",
      "['python', 'get-observations_csv.py', '-a', 'CxS0G8bnxEGIOXolz/PBow==', '-s', '1.200.0', '-p', '1001', '-r', '1440', '-t', '/P1D']\n",
      "['python', 'get-observations_csv.py', '-a', 'CxS0G8bnxEGIOXolz/PBow==', '-s', '1.41.0', '-p', '1001', '-r', '1440', '-t', '/P1D']\n",
      "['python', 'get-observations_csv.py', '-a', 'CxS0G8bnxEGIOXolz/PBow==', '-s', '1.42.0', '-p', '1001', '-r', '1440', '-t', '/P1D']\n",
      "['python', 'get-observations_csv.py', '-a', 'CxS0G8bnxEGIOXolz/PBow==', '-s', '1.43.0', '-p', '1001', '-r', '1440', '-t', '/P1D']\n",
      "['python', 'get-observations_csv.py', '-a', 'CxS0G8bnxEGIOXolz/PBow==', '-s', '1.45.0', '-p', '1001', '-r', '1440', '-t', '/P1D']\n",
      "['python', 'get-observations_csv.py', '-a', 'CxS0G8bnxEGIOXolz/PBow==', '-s', '1.46.0', '-p', '1001', '-r', '1440', '-t', '/P1D']\n",
      "['python', 'get-observations_csv.py', '-a', 'CxS0G8bnxEGIOXolz/PBow==', '-s', '1.47.0', '-p', '1001', '-r', '1440', '-t', '/P1D']\n",
      "['python', 'get-observations_csv.py', '-a', 'CxS0G8bnxEGIOXolz/PBow==', '-s', '1.48.0', '-p', '1001', '-r', '1440', '-t', '/P1D']\n",
      "['python', 'get-observations_csv.py', '-a', 'CxS0G8bnxEGIOXolz/PBow==', '-s', '1.49.0', '-p', '1001', '-r', '1440', '-t', '/P1D']\n",
      "['python', 'get-observations_csv.py', '-a', 'CxS0G8bnxEGIOXolz/PBow==', '-s', '1.50.0', '-p', '1001', '-r', '1440', '-t', '/P1D']\n",
      "['python', 'get-observations_csv.py', '-a', 'CxS0G8bnxEGIOXolz/PBow==', '-s', '1.52.0', '-p', '1001', '-r', '1440', '-t', '/P1D']\n",
      "['python', 'get-observations_csv.py', '-a', 'CxS0G8bnxEGIOXolz/PBow==', '-s', '1.57.0', '-p', '1001', '-r', '1440', '-t', '/P1D']\n",
      "['python', 'get-observations_csv.py', '-a', 'CxS0G8bnxEGIOXolz/PBow==', '-s', '100.1.0', '-p', '1001', '-r', '1440', '-t', '/P1D']\n",
      "['python', 'get-observations_csv.py', '-a', 'CxS0G8bnxEGIOXolz/PBow==', '-s', '101.1.0', '-p', '1001', '-r', '1440', '-t', '/P1D']\n",
      "['python', 'get-observations_csv.py', '-a', 'CxS0G8bnxEGIOXolz/PBow==', '-s', '101.4.1', '-p', '1001', '-r', '1440', '-t', '/P1D']\n",
      "['python', 'get-observations_csv.py', '-a', 'CxS0G8bnxEGIOXolz/PBow==', '-s', '102.1.0', '-p', '1001', '-r', '1440', '-t', '/P1D']\n",
      "['python', 'get-observations_csv.py', '-a', 'CxS0G8bnxEGIOXolz/PBow==', '-s', '103.1.0', '-p', '1001', '-r', '1440', '-t', '/P1D']\n",
      "['python', 'get-observations_csv.py', '-a', 'CxS0G8bnxEGIOXolz/PBow==', '-s', '103.10.0', '-p', '1001', '-r', '1440', '-t', '/P1D']\n",
      "['python', 'get-observations_csv.py', '-a', 'CxS0G8bnxEGIOXolz/PBow==', '-s', '103.12.0', '-p', '1001', '-r', '1440', '-t', '/P1D']\n",
      "['python', 'get-observations_csv.py', '-a', 'CxS0G8bnxEGIOXolz/PBow==', '-s', '103.13.0', '-p', '1001', '-r', '1440', '-t', '/P1D']\n",
      "['python', 'get-observations_csv.py', '-a', 'CxS0G8bnxEGIOXolz/PBow==', '-s', '103.19.0', '-p', '1001', '-r', '1440', '-t', '/P1D']\n",
      "['python', 'get-observations_csv.py', '-a', 'CxS0G8bnxEGIOXolz/PBow==', '-s', '103.20.0', '-p', '1001', '-r', '1440', '-t', '/P1D']\n",
      "['python', 'get-observations_csv.py', '-a', 'CxS0G8bnxEGIOXolz/PBow==', '-s', '103.23.0', '-p', '1001', '-r', '1440', '-t', '/P1D']\n",
      "['python', 'get-observations_csv.py', '-a', 'CxS0G8bnxEGIOXolz/PBow==', '-s', '103.3.0', '-p', '1001', '-r', '1440', '-t', '/P1D']\n",
      "['python', 'get-observations_csv.py', '-a', 'CxS0G8bnxEGIOXolz/PBow==', '-s', '103.40.0', '-p', '1001', '-r', '1440', '-t', '/P1D']\n",
      "['python', 'get-observations_csv.py', '-a', 'CxS0G8bnxEGIOXolz/PBow==', '-s', '103.41.0', '-p', '1001', '-r', '1440', '-t', '/P1D']\n",
      "['python', 'get-observations_csv.py', '-a', 'CxS0G8bnxEGIOXolz/PBow==', '-s', '103.42.0', '-p', '1001', '-r', '1440', '-t', '/P1D']\n",
      "['python', 'get-observations_csv.py', '-a', 'CxS0G8bnxEGIOXolz/PBow==', '-s', '103.45.0', '-p', '1001', '-r', '1440', '-t', '/P1D']\n",
      "['python', 'get-observations_csv.py', '-a', 'CxS0G8bnxEGIOXolz/PBow==', '-s', '103.46.0', '-p', '1001', '-r', '1440', '-t', '/P1D']\n",
      "['python', 'get-observations_csv.py', '-a', 'CxS0G8bnxEGIOXolz/PBow==', '-s', '103.48.0', '-p', '1001', '-r', '1440', '-t', '/P1D']\n",
      "['python', 'get-observations_csv.py', '-a', 'CxS0G8bnxEGIOXolz/PBow==', '-s', '103.8.0', '-p', '1001', '-r', '1440', '-t', '/P1D']\n",
      "['python', 'get-observations_csv.py', '-a', 'CxS0G8bnxEGIOXolz/PBow==', '-s', '104.1.0', '-p', '1001', '-r', '1440', '-t', '/P1D']\n",
      "['python', 'get-observations_csv.py', '-a', 'CxS0G8bnxEGIOXolz/PBow==', '-s', '104.13.0', '-p', '1001', '-r', '1440', '-t', '/P1D']\n",
      "['python', 'get-observations_csv.py', '-a', 'CxS0G8bnxEGIOXolz/PBow==', '-s', '104.19.0', '-p', '1001', '-r', '1440', '-t', '/P1D']\n",
      "['python', 'get-observations_csv.py', '-a', 'CxS0G8bnxEGIOXolz/PBow==', '-s', '104.2.0', '-p', '1001', '-r', '1440', '-t', '/P1D']\n",
      "['python', 'get-observations_csv.py', '-a', 'CxS0G8bnxEGIOXolz/PBow==', '-s', '104.22.0', '-p', '1001', '-r', '1440', '-t', '/P1D']\n",
      "['python', 'get-observations_csv.py', '-a', 'CxS0G8bnxEGIOXolz/PBow==', '-s', '104.23.0', '-p', '1001', '-r', '1440', '-t', '/P1D']\n",
      "['python', 'get-observations_csv.py', '-a', 'CxS0G8bnxEGIOXolz/PBow==', '-s', '104.26.0', '-p', '1001', '-r', '1440', '-t', '/P1D']\n",
      "['python', 'get-observations_csv.py', '-a', 'CxS0G8bnxEGIOXolz/PBow==', '-s', '104.27.0', '-p', '1001', '-r', '1440', '-t', '/P1D']\n",
      "['python', 'get-observations_csv.py', '-a', 'CxS0G8bnxEGIOXolz/PBow==', '-s', '104.3.0', '-p', '1001', '-r', '1440', '-t', '/P1D']\n",
      "['python', 'get-observations_csv.py', '-a', 'CxS0G8bnxEGIOXolz/PBow==', '-s', '105.1.0', '-p', '1001', '-r', '1440', '-t', '/P1D']\n",
      "['python', 'get-observations_csv.py', '-a', 'CxS0G8bnxEGIOXolz/PBow==', '-s', '107.3.0', '-p', '1001', '-r', '1440', '-t', '/P1D']\n",
      "['python', 'get-observations_csv.py', '-a', 'CxS0G8bnxEGIOXolz/PBow==', '-s', '107.8.0', '-p', '1001', '-r', '1440', '-t', '/P1D']\n",
      "['python', 'get-observations_csv.py', '-a', 'CxS0G8bnxEGIOXolz/PBow==', '-s', '108.4.0', '-p', '1001', '-r', '1440', '-t', '/P1D']\n",
      "['python', 'get-observations_csv.py', '-a', 'CxS0G8bnxEGIOXolz/PBow==', '-s', '109.13.0', '-p', '1001', '-r', '1440', '-t', '/P1D']\n",
      "['python', 'get-observations_csv.py', '-a', 'CxS0G8bnxEGIOXolz/PBow==', '-s', '109.14.0', '-p', '1001', '-r', '1440', '-t', '/P1D']\n",
      "['python', 'get-observations_csv.py', '-a', 'CxS0G8bnxEGIOXolz/PBow==', '-s', '109.17.0', '-p', '1001', '-r', '1440', '-t', '/P1D']\n"
     ]
    },
    {
     "ename": "KeyboardInterrupt",
     "evalue": "",
     "output_type": "error",
     "traceback": [
      "\u001b[1;31m---------------------------------------------------------------------------\u001b[0m",
      "\u001b[1;31mKeyboardInterrupt\u001b[0m                         Traceback (most recent call last)",
      "File \u001b[1;32m~\\Documents\\GitHub\\FYS5429\\Project 1\\data\\scripts\\DataRetrieval\\DataRetrieval.py:37\u001b[0m\n\u001b[0;32m     33\u001b[0m \u001b[38;5;66;03m#print(item1)\u001b[39;00m\n\u001b[0;32m     34\u001b[0m \u001b[38;5;66;03m#This pulls all available daily stream flow to modify the time step or period read at the following link under Observations - GET-method:\u001b[39;00m\n\u001b[0;32m     35\u001b[0m \u001b[38;5;66;03m#https://hydapi.nve.no/UserDocumentation/\u001b[39;00m\n\u001b[0;32m     36\u001b[0m script \u001b[38;5;241m=\u001b[39m \u001b[38;5;124m\"\u001b[39m\u001b[38;5;124mget-observations_csv.py -a \u001b[39m\u001b[38;5;130;01m\\\"\u001b[39;00m\u001b[38;5;124mCxS0G8bnxEGIOXolz/PBow==\u001b[39m\u001b[38;5;130;01m\\\"\u001b[39;00m\u001b[38;5;124m -s \u001b[39m\u001b[38;5;130;01m\\\"\u001b[39;00m\u001b[38;5;132;01m%s\u001b[39;00m\u001b[38;5;130;01m\\\"\u001b[39;00m\u001b[38;5;124m -p 1001 -r 1440 -t \u001b[39m\u001b[38;5;130;01m\\\"\u001b[39;00m\u001b[38;5;124m/P1D\u001b[39m\u001b[38;5;130;01m\\\"\u001b[39;00m\u001b[38;5;124m\"\u001b[39m   \u001b[38;5;241m%\u001b[39m item1\n\u001b[1;32m---> 37\u001b[0m api_key \u001b[38;5;241m=\u001b[39m \u001b[38;5;124m\"\u001b[39m\u001b[38;5;124mCxS0G8bnxEGIOXolz/PBow==\u001b[39m\u001b[38;5;124m\"\u001b[39m\n\u001b[0;32m     38\u001b[0m script_command \u001b[38;5;241m=\u001b[39m [\u001b[38;5;124m\"\u001b[39m\u001b[38;5;124mpython\u001b[39m\u001b[38;5;124m\"\u001b[39m, \u001b[38;5;124m\"\u001b[39m\u001b[38;5;124mget-observations_csv.py\u001b[39m\u001b[38;5;124m\"\u001b[39m, \u001b[38;5;124m\"\u001b[39m\u001b[38;5;124m-a\u001b[39m\u001b[38;5;124m\"\u001b[39m, \u001b[38;5;124m\"\u001b[39m\u001b[38;5;124mCxS0G8bnxEGIOXolz/PBow==\u001b[39m\u001b[38;5;124m\"\u001b[39m, \u001b[38;5;124m\"\u001b[39m\u001b[38;5;124m-s\u001b[39m\u001b[38;5;124m\"\u001b[39m, item1, \u001b[38;5;124m\"\u001b[39m\u001b[38;5;124m-p\u001b[39m\u001b[38;5;124m\"\u001b[39m, \u001b[38;5;124m\"\u001b[39m\u001b[38;5;124m1001\u001b[39m\u001b[38;5;124m\"\u001b[39m, \u001b[38;5;124m\"\u001b[39m\u001b[38;5;124m-r\u001b[39m\u001b[38;5;124m\"\u001b[39m, \u001b[38;5;124m\"\u001b[39m\u001b[38;5;124m1440\u001b[39m\u001b[38;5;124m\"\u001b[39m, \u001b[38;5;124m\"\u001b[39m\u001b[38;5;124m-t\u001b[39m\u001b[38;5;124m\"\u001b[39m, \u001b[38;5;124m\"\u001b[39m\u001b[38;5;124m/P1D\u001b[39m\u001b[38;5;124m\"\u001b[39m]\n\u001b[0;32m     39\u001b[0m subprocess\u001b[38;5;241m.\u001b[39mrun(script_command)\n",
      "File \u001b[1;32mc:\\Users\\Markus\\AppData\\Local\\Programs\\Python\\Python312\\Lib\\subprocess.py:550\u001b[0m, in \u001b[0;36mrun\u001b[1;34m(input, capture_output, timeout, check, *popenargs, **kwargs)\u001b[0m\n\u001b[0;32m    548\u001b[0m \u001b[38;5;28;01mwith\u001b[39;00m Popen(\u001b[38;5;241m*\u001b[39mpopenargs, \u001b[38;5;241m*\u001b[39m\u001b[38;5;241m*\u001b[39mkwargs) \u001b[38;5;28;01mas\u001b[39;00m process:\n\u001b[0;32m    549\u001b[0m     \u001b[38;5;28;01mtry\u001b[39;00m:\n\u001b[1;32m--> 550\u001b[0m         stdout, stderr \u001b[38;5;241m=\u001b[39m \u001b[43mprocess\u001b[49m\u001b[38;5;241;43m.\u001b[39;49m\u001b[43mcommunicate\u001b[49m\u001b[43m(\u001b[49m\u001b[38;5;28;43minput\u001b[39;49m\u001b[43m,\u001b[49m\u001b[43m \u001b[49m\u001b[43mtimeout\u001b[49m\u001b[38;5;241;43m=\u001b[39;49m\u001b[43mtimeout\u001b[49m\u001b[43m)\u001b[49m\n\u001b[0;32m    551\u001b[0m     \u001b[38;5;28;01mexcept\u001b[39;00m TimeoutExpired \u001b[38;5;28;01mas\u001b[39;00m exc:\n\u001b[0;32m    552\u001b[0m         process\u001b[38;5;241m.\u001b[39mkill()\n",
      "File \u001b[1;32mc:\\Users\\Markus\\AppData\\Local\\Programs\\Python\\Python312\\Lib\\subprocess.py:1201\u001b[0m, in \u001b[0;36mPopen.communicate\u001b[1;34m(self, input, timeout)\u001b[0m\n\u001b[0;32m   1199\u001b[0m         stderr \u001b[38;5;241m=\u001b[39m \u001b[38;5;28mself\u001b[39m\u001b[38;5;241m.\u001b[39mstderr\u001b[38;5;241m.\u001b[39mread()\n\u001b[0;32m   1200\u001b[0m         \u001b[38;5;28mself\u001b[39m\u001b[38;5;241m.\u001b[39mstderr\u001b[38;5;241m.\u001b[39mclose()\n\u001b[1;32m-> 1201\u001b[0m     \u001b[38;5;28;43mself\u001b[39;49m\u001b[38;5;241;43m.\u001b[39;49m\u001b[43mwait\u001b[49m\u001b[43m(\u001b[49m\u001b[43m)\u001b[49m\n\u001b[0;32m   1202\u001b[0m \u001b[38;5;28;01melse\u001b[39;00m:\n\u001b[0;32m   1203\u001b[0m     \u001b[38;5;28;01mif\u001b[39;00m timeout \u001b[38;5;129;01mis\u001b[39;00m \u001b[38;5;129;01mnot\u001b[39;00m \u001b[38;5;28;01mNone\u001b[39;00m:\n",
      "File \u001b[1;32mc:\\Users\\Markus\\AppData\\Local\\Programs\\Python\\Python312\\Lib\\subprocess.py:1264\u001b[0m, in \u001b[0;36mPopen.wait\u001b[1;34m(self, timeout)\u001b[0m\n\u001b[0;32m   1262\u001b[0m     endtime \u001b[38;5;241m=\u001b[39m _time() \u001b[38;5;241m+\u001b[39m timeout\n\u001b[0;32m   1263\u001b[0m \u001b[38;5;28;01mtry\u001b[39;00m:\n\u001b[1;32m-> 1264\u001b[0m     \u001b[38;5;28;01mreturn\u001b[39;00m \u001b[38;5;28;43mself\u001b[39;49m\u001b[38;5;241;43m.\u001b[39;49m\u001b[43m_wait\u001b[49m\u001b[43m(\u001b[49m\u001b[43mtimeout\u001b[49m\u001b[38;5;241;43m=\u001b[39;49m\u001b[43mtimeout\u001b[49m\u001b[43m)\u001b[49m\n\u001b[0;32m   1265\u001b[0m \u001b[38;5;28;01mexcept\u001b[39;00m \u001b[38;5;167;01mKeyboardInterrupt\u001b[39;00m:\n\u001b[0;32m   1266\u001b[0m     \u001b[38;5;66;03m# https://bugs.python.org/issue25942\u001b[39;00m\n\u001b[0;32m   1267\u001b[0m     \u001b[38;5;66;03m# The first keyboard interrupt waits briefly for the child to\u001b[39;00m\n\u001b[0;32m   1268\u001b[0m     \u001b[38;5;66;03m# exit under the common assumption that it also received the ^C\u001b[39;00m\n\u001b[0;32m   1269\u001b[0m     \u001b[38;5;66;03m# generated SIGINT and will exit rapidly.\u001b[39;00m\n\u001b[0;32m   1270\u001b[0m     \u001b[38;5;28;01mif\u001b[39;00m timeout \u001b[38;5;129;01mis\u001b[39;00m \u001b[38;5;129;01mnot\u001b[39;00m \u001b[38;5;28;01mNone\u001b[39;00m:\n",
      "File \u001b[1;32mc:\\Users\\Markus\\AppData\\Local\\Programs\\Python\\Python312\\Lib\\subprocess.py:1588\u001b[0m, in \u001b[0;36mPopen._wait\u001b[1;34m(self, timeout)\u001b[0m\n\u001b[0;32m   1585\u001b[0m     timeout_millis \u001b[38;5;241m=\u001b[39m \u001b[38;5;28mint\u001b[39m(timeout \u001b[38;5;241m*\u001b[39m \u001b[38;5;241m1000\u001b[39m)\n\u001b[0;32m   1586\u001b[0m \u001b[38;5;28;01mif\u001b[39;00m \u001b[38;5;28mself\u001b[39m\u001b[38;5;241m.\u001b[39mreturncode \u001b[38;5;129;01mis\u001b[39;00m \u001b[38;5;28;01mNone\u001b[39;00m:\n\u001b[0;32m   1587\u001b[0m     \u001b[38;5;66;03m# API note: Returns immediately if timeout_millis == 0.\u001b[39;00m\n\u001b[1;32m-> 1588\u001b[0m     result \u001b[38;5;241m=\u001b[39m \u001b[43m_winapi\u001b[49m\u001b[38;5;241;43m.\u001b[39;49m\u001b[43mWaitForSingleObject\u001b[49m\u001b[43m(\u001b[49m\u001b[38;5;28;43mself\u001b[39;49m\u001b[38;5;241;43m.\u001b[39;49m\u001b[43m_handle\u001b[49m\u001b[43m,\u001b[49m\n\u001b[0;32m   1589\u001b[0m \u001b[43m                                         \u001b[49m\u001b[43mtimeout_millis\u001b[49m\u001b[43m)\u001b[49m\n\u001b[0;32m   1590\u001b[0m     \u001b[38;5;28;01mif\u001b[39;00m result \u001b[38;5;241m==\u001b[39m _winapi\u001b[38;5;241m.\u001b[39mWAIT_TIMEOUT:\n\u001b[0;32m   1591\u001b[0m         \u001b[38;5;28;01mraise\u001b[39;00m TimeoutExpired(\u001b[38;5;28mself\u001b[39m\u001b[38;5;241m.\u001b[39margs, timeout)\n",
      "\u001b[1;31mKeyboardInterrupt\u001b[0m: "
     ]
    }
   ],
   "source": [
    "%run DataRetrieval.py"
   ]
  },
  {
   "cell_type": "code",
   "execution_count": 24,
   "metadata": {},
   "outputs": [
    {
     "name": "stdout",
     "output_type": "stream",
     "text": [
      "Script started\n",
      "<class 'str'>\n",
      "https://hydapi.nve.no/api/v1/Observations?StationId=1.48.0&Parameter=1001&ResolutionTime=1440&ReferenceTime=/P1D\n",
      "1_48_0\n",
      "1\n",
      "c:\\Users\\Markus\\Documents\\GitHub\\FYS5429\\Project 1\\data\\scripts\\DataRetrieval\\Data/Streamflow/NVE_stations/Catchment1/NVEObservation1_48_0.cvs\n"
     ]
    },
    {
     "name": "stderr",
     "output_type": "stream",
     "text": [
      "C:\\Users\\Markus\\Documents\\GitHub\\FYS5429\\Project 1\\data\\scripts\\DataRetrieval\\get-observations_csv.py:112: FutureWarning: Passing literal json to 'read_json' is deprecated and will be removed in a future version. To read from a literal string, wrap it in a 'StringIO' object.\n",
      "  df = pd.read_json(json.dumps(parsed_result['data'][0]['observations']))\n"
     ]
    },
    {
     "ename": "PermissionError",
     "evalue": "[Errno 13] Permission denied: 'c:\\\\Users\\\\Markus\\\\Documents\\\\GitHub\\\\FYS5429\\\\Project 1\\\\data\\\\scripts\\\\DataRetrieval\\\\Data/Streamflow/NVE_stations/Catchment1/NVEObservation1_48_0.cvs'",
     "output_type": "error",
     "traceback": [
      "\u001b[1;31m---------------------------------------------------------------------------\u001b[0m",
      "\u001b[1;31mPermissionError\u001b[0m                           Traceback (most recent call last)",
      "File \u001b[1;32m~\\Documents\\GitHub\\FYS5429\\Project 1\\data\\scripts\\DataRetrieval\\get-observations_csv.py:127\u001b[0m\n\u001b[0;32m    123\u001b[0m     df\u001b[38;5;241m.\u001b[39mto_csv(Obs_file, index\u001b[38;5;241m=\u001b[39m\u001b[38;5;28;01mFalse\u001b[39;00m)\n\u001b[0;32m    126\u001b[0m \u001b[38;5;28;01mif\u001b[39;00m \u001b[38;5;18m__name__\u001b[39m \u001b[38;5;241m==\u001b[39m \u001b[38;5;124m\"\u001b[39m\u001b[38;5;124m__main__\u001b[39m\u001b[38;5;124m\"\u001b[39m:\n\u001b[1;32m--> 127\u001b[0m     \u001b[43mmain\u001b[49m\u001b[43m(\u001b[49m\u001b[43msys\u001b[49m\u001b[38;5;241;43m.\u001b[39;49m\u001b[43margv\u001b[49m\u001b[43m[\u001b[49m\u001b[38;5;241;43m1\u001b[39;49m\u001b[43m:\u001b[49m\u001b[43m]\u001b[49m\u001b[43m)\u001b[49m\n\u001b[0;32m    129\u001b[0m \u001b[38;5;28mprint\u001b[39m(\u001b[38;5;124m\"\u001b[39m\u001b[38;5;124mgetobservations_CSV Done\u001b[39m\u001b[38;5;124m\"\u001b[39m)\n",
      "File \u001b[1;32m~\\Documents\\GitHub\\FYS5429\\Project 1\\data\\scripts\\DataRetrieval\\get-observations_csv.py:123\u001b[0m, in \u001b[0;36mmain\u001b[1;34m(argv)\u001b[0m\n\u001b[0;32m    121\u001b[0m \u001b[38;5;28;01mif\u001b[39;00m \u001b[38;5;129;01mnot\u001b[39;00m os\u001b[38;5;241m.\u001b[39mpath\u001b[38;5;241m.\u001b[39mexists(Obs_file):\n\u001b[0;32m    122\u001b[0m     os\u001b[38;5;241m.\u001b[39mmakedirs(Obs_file)\n\u001b[1;32m--> 123\u001b[0m \u001b[43mdf\u001b[49m\u001b[38;5;241;43m.\u001b[39;49m\u001b[43mto_csv\u001b[49m\u001b[43m(\u001b[49m\u001b[43mObs_file\u001b[49m\u001b[43m,\u001b[49m\u001b[43m \u001b[49m\u001b[43mindex\u001b[49m\u001b[38;5;241;43m=\u001b[39;49m\u001b[38;5;28;43;01mFalse\u001b[39;49;00m\u001b[43m)\u001b[49m\n",
      "File \u001b[1;32mc:\\Users\\Markus\\AppData\\Local\\Programs\\Python\\Python312\\Lib\\site-packages\\pandas\\util\\_decorators.py:333\u001b[0m, in \u001b[0;36mdeprecate_nonkeyword_arguments.<locals>.decorate.<locals>.wrapper\u001b[1;34m(*args, **kwargs)\u001b[0m\n\u001b[0;32m    327\u001b[0m \u001b[38;5;28;01mif\u001b[39;00m \u001b[38;5;28mlen\u001b[39m(args) \u001b[38;5;241m>\u001b[39m num_allow_args:\n\u001b[0;32m    328\u001b[0m     warnings\u001b[38;5;241m.\u001b[39mwarn(\n\u001b[0;32m    329\u001b[0m         msg\u001b[38;5;241m.\u001b[39mformat(arguments\u001b[38;5;241m=\u001b[39m_format_argument_list(allow_args)),\n\u001b[0;32m    330\u001b[0m         \u001b[38;5;167;01mFutureWarning\u001b[39;00m,\n\u001b[0;32m    331\u001b[0m         stacklevel\u001b[38;5;241m=\u001b[39mfind_stack_level(),\n\u001b[0;32m    332\u001b[0m     )\n\u001b[1;32m--> 333\u001b[0m \u001b[38;5;28;01mreturn\u001b[39;00m \u001b[43mfunc\u001b[49m\u001b[43m(\u001b[49m\u001b[38;5;241;43m*\u001b[39;49m\u001b[43margs\u001b[49m\u001b[43m,\u001b[49m\u001b[43m \u001b[49m\u001b[38;5;241;43m*\u001b[39;49m\u001b[38;5;241;43m*\u001b[39;49m\u001b[43mkwargs\u001b[49m\u001b[43m)\u001b[49m\n",
      "File \u001b[1;32mc:\\Users\\Markus\\AppData\\Local\\Programs\\Python\\Python312\\Lib\\site-packages\\pandas\\core\\generic.py:3964\u001b[0m, in \u001b[0;36mNDFrame.to_csv\u001b[1;34m(self, path_or_buf, sep, na_rep, float_format, columns, header, index, index_label, mode, encoding, compression, quoting, quotechar, lineterminator, chunksize, date_format, doublequote, escapechar, decimal, errors, storage_options)\u001b[0m\n\u001b[0;32m   3953\u001b[0m df \u001b[38;5;241m=\u001b[39m \u001b[38;5;28mself\u001b[39m \u001b[38;5;28;01mif\u001b[39;00m \u001b[38;5;28misinstance\u001b[39m(\u001b[38;5;28mself\u001b[39m, ABCDataFrame) \u001b[38;5;28;01melse\u001b[39;00m \u001b[38;5;28mself\u001b[39m\u001b[38;5;241m.\u001b[39mto_frame()\n\u001b[0;32m   3955\u001b[0m formatter \u001b[38;5;241m=\u001b[39m DataFrameFormatter(\n\u001b[0;32m   3956\u001b[0m     frame\u001b[38;5;241m=\u001b[39mdf,\n\u001b[0;32m   3957\u001b[0m     header\u001b[38;5;241m=\u001b[39mheader,\n\u001b[1;32m   (...)\u001b[0m\n\u001b[0;32m   3961\u001b[0m     decimal\u001b[38;5;241m=\u001b[39mdecimal,\n\u001b[0;32m   3962\u001b[0m )\n\u001b[1;32m-> 3964\u001b[0m \u001b[38;5;28;01mreturn\u001b[39;00m \u001b[43mDataFrameRenderer\u001b[49m\u001b[43m(\u001b[49m\u001b[43mformatter\u001b[49m\u001b[43m)\u001b[49m\u001b[38;5;241;43m.\u001b[39;49m\u001b[43mto_csv\u001b[49m\u001b[43m(\u001b[49m\n\u001b[0;32m   3965\u001b[0m \u001b[43m    \u001b[49m\u001b[43mpath_or_buf\u001b[49m\u001b[43m,\u001b[49m\n\u001b[0;32m   3966\u001b[0m \u001b[43m    \u001b[49m\u001b[43mlineterminator\u001b[49m\u001b[38;5;241;43m=\u001b[39;49m\u001b[43mlineterminator\u001b[49m\u001b[43m,\u001b[49m\n\u001b[0;32m   3967\u001b[0m \u001b[43m    \u001b[49m\u001b[43msep\u001b[49m\u001b[38;5;241;43m=\u001b[39;49m\u001b[43msep\u001b[49m\u001b[43m,\u001b[49m\n\u001b[0;32m   3968\u001b[0m \u001b[43m    \u001b[49m\u001b[43mencoding\u001b[49m\u001b[38;5;241;43m=\u001b[39;49m\u001b[43mencoding\u001b[49m\u001b[43m,\u001b[49m\n\u001b[0;32m   3969\u001b[0m \u001b[43m    \u001b[49m\u001b[43merrors\u001b[49m\u001b[38;5;241;43m=\u001b[39;49m\u001b[43merrors\u001b[49m\u001b[43m,\u001b[49m\n\u001b[0;32m   3970\u001b[0m \u001b[43m    \u001b[49m\u001b[43mcompression\u001b[49m\u001b[38;5;241;43m=\u001b[39;49m\u001b[43mcompression\u001b[49m\u001b[43m,\u001b[49m\n\u001b[0;32m   3971\u001b[0m \u001b[43m    \u001b[49m\u001b[43mquoting\u001b[49m\u001b[38;5;241;43m=\u001b[39;49m\u001b[43mquoting\u001b[49m\u001b[43m,\u001b[49m\n\u001b[0;32m   3972\u001b[0m \u001b[43m    \u001b[49m\u001b[43mcolumns\u001b[49m\u001b[38;5;241;43m=\u001b[39;49m\u001b[43mcolumns\u001b[49m\u001b[43m,\u001b[49m\n\u001b[0;32m   3973\u001b[0m \u001b[43m    \u001b[49m\u001b[43mindex_label\u001b[49m\u001b[38;5;241;43m=\u001b[39;49m\u001b[43mindex_label\u001b[49m\u001b[43m,\u001b[49m\n\u001b[0;32m   3974\u001b[0m \u001b[43m    \u001b[49m\u001b[43mmode\u001b[49m\u001b[38;5;241;43m=\u001b[39;49m\u001b[43mmode\u001b[49m\u001b[43m,\u001b[49m\n\u001b[0;32m   3975\u001b[0m \u001b[43m    \u001b[49m\u001b[43mchunksize\u001b[49m\u001b[38;5;241;43m=\u001b[39;49m\u001b[43mchunksize\u001b[49m\u001b[43m,\u001b[49m\n\u001b[0;32m   3976\u001b[0m \u001b[43m    \u001b[49m\u001b[43mquotechar\u001b[49m\u001b[38;5;241;43m=\u001b[39;49m\u001b[43mquotechar\u001b[49m\u001b[43m,\u001b[49m\n\u001b[0;32m   3977\u001b[0m \u001b[43m    \u001b[49m\u001b[43mdate_format\u001b[49m\u001b[38;5;241;43m=\u001b[39;49m\u001b[43mdate_format\u001b[49m\u001b[43m,\u001b[49m\n\u001b[0;32m   3978\u001b[0m \u001b[43m    \u001b[49m\u001b[43mdoublequote\u001b[49m\u001b[38;5;241;43m=\u001b[39;49m\u001b[43mdoublequote\u001b[49m\u001b[43m,\u001b[49m\n\u001b[0;32m   3979\u001b[0m \u001b[43m    \u001b[49m\u001b[43mescapechar\u001b[49m\u001b[38;5;241;43m=\u001b[39;49m\u001b[43mescapechar\u001b[49m\u001b[43m,\u001b[49m\n\u001b[0;32m   3980\u001b[0m \u001b[43m    \u001b[49m\u001b[43mstorage_options\u001b[49m\u001b[38;5;241;43m=\u001b[39;49m\u001b[43mstorage_options\u001b[49m\u001b[43m,\u001b[49m\n\u001b[0;32m   3981\u001b[0m \u001b[43m\u001b[49m\u001b[43m)\u001b[49m\n",
      "File \u001b[1;32mc:\\Users\\Markus\\AppData\\Local\\Programs\\Python\\Python312\\Lib\\site-packages\\pandas\\io\\formats\\format.py:1014\u001b[0m, in \u001b[0;36mDataFrameRenderer.to_csv\u001b[1;34m(self, path_or_buf, encoding, sep, columns, index_label, mode, compression, quoting, quotechar, lineterminator, chunksize, date_format, doublequote, escapechar, errors, storage_options)\u001b[0m\n\u001b[0;32m    993\u001b[0m     created_buffer \u001b[38;5;241m=\u001b[39m \u001b[38;5;28;01mFalse\u001b[39;00m\n\u001b[0;32m    995\u001b[0m csv_formatter \u001b[38;5;241m=\u001b[39m CSVFormatter(\n\u001b[0;32m    996\u001b[0m     path_or_buf\u001b[38;5;241m=\u001b[39mpath_or_buf,\n\u001b[0;32m    997\u001b[0m     lineterminator\u001b[38;5;241m=\u001b[39mlineterminator,\n\u001b[1;32m   (...)\u001b[0m\n\u001b[0;32m   1012\u001b[0m     formatter\u001b[38;5;241m=\u001b[39m\u001b[38;5;28mself\u001b[39m\u001b[38;5;241m.\u001b[39mfmt,\n\u001b[0;32m   1013\u001b[0m )\n\u001b[1;32m-> 1014\u001b[0m \u001b[43mcsv_formatter\u001b[49m\u001b[38;5;241;43m.\u001b[39;49m\u001b[43msave\u001b[49m\u001b[43m(\u001b[49m\u001b[43m)\u001b[49m\n\u001b[0;32m   1016\u001b[0m \u001b[38;5;28;01mif\u001b[39;00m created_buffer:\n\u001b[0;32m   1017\u001b[0m     \u001b[38;5;28;01massert\u001b[39;00m \u001b[38;5;28misinstance\u001b[39m(path_or_buf, StringIO)\n",
      "File \u001b[1;32mc:\\Users\\Markus\\AppData\\Local\\Programs\\Python\\Python312\\Lib\\site-packages\\pandas\\io\\formats\\csvs.py:251\u001b[0m, in \u001b[0;36mCSVFormatter.save\u001b[1;34m(self)\u001b[0m\n\u001b[0;32m    247\u001b[0m \u001b[38;5;250m\u001b[39m\u001b[38;5;124;03m\"\"\"\u001b[39;00m\n\u001b[0;32m    248\u001b[0m \u001b[38;5;124;03mCreate the writer & save.\u001b[39;00m\n\u001b[0;32m    249\u001b[0m \u001b[38;5;124;03m\"\"\"\u001b[39;00m\n\u001b[0;32m    250\u001b[0m \u001b[38;5;66;03m# apply compression and byte/text conversion\u001b[39;00m\n\u001b[1;32m--> 251\u001b[0m \u001b[38;5;28;01mwith\u001b[39;00m \u001b[43mget_handle\u001b[49m\u001b[43m(\u001b[49m\n\u001b[0;32m    252\u001b[0m \u001b[43m    \u001b[49m\u001b[38;5;28;43mself\u001b[39;49m\u001b[38;5;241;43m.\u001b[39;49m\u001b[43mfilepath_or_buffer\u001b[49m\u001b[43m,\u001b[49m\n\u001b[0;32m    253\u001b[0m \u001b[43m    \u001b[49m\u001b[38;5;28;43mself\u001b[39;49m\u001b[38;5;241;43m.\u001b[39;49m\u001b[43mmode\u001b[49m\u001b[43m,\u001b[49m\n\u001b[0;32m    254\u001b[0m \u001b[43m    \u001b[49m\u001b[43mencoding\u001b[49m\u001b[38;5;241;43m=\u001b[39;49m\u001b[38;5;28;43mself\u001b[39;49m\u001b[38;5;241;43m.\u001b[39;49m\u001b[43mencoding\u001b[49m\u001b[43m,\u001b[49m\n\u001b[0;32m    255\u001b[0m \u001b[43m    \u001b[49m\u001b[43merrors\u001b[49m\u001b[38;5;241;43m=\u001b[39;49m\u001b[38;5;28;43mself\u001b[39;49m\u001b[38;5;241;43m.\u001b[39;49m\u001b[43merrors\u001b[49m\u001b[43m,\u001b[49m\n\u001b[0;32m    256\u001b[0m \u001b[43m    \u001b[49m\u001b[43mcompression\u001b[49m\u001b[38;5;241;43m=\u001b[39;49m\u001b[38;5;28;43mself\u001b[39;49m\u001b[38;5;241;43m.\u001b[39;49m\u001b[43mcompression\u001b[49m\u001b[43m,\u001b[49m\n\u001b[0;32m    257\u001b[0m \u001b[43m    \u001b[49m\u001b[43mstorage_options\u001b[49m\u001b[38;5;241;43m=\u001b[39;49m\u001b[38;5;28;43mself\u001b[39;49m\u001b[38;5;241;43m.\u001b[39;49m\u001b[43mstorage_options\u001b[49m\u001b[43m,\u001b[49m\n\u001b[0;32m    258\u001b[0m \u001b[43m\u001b[49m\u001b[43m)\u001b[49m \u001b[38;5;28;01mas\u001b[39;00m handles:\n\u001b[0;32m    259\u001b[0m     \u001b[38;5;66;03m# Note: self.encoding is irrelevant here\u001b[39;00m\n\u001b[0;32m    260\u001b[0m     \u001b[38;5;28mself\u001b[39m\u001b[38;5;241m.\u001b[39mwriter \u001b[38;5;241m=\u001b[39m csvlib\u001b[38;5;241m.\u001b[39mwriter(\n\u001b[0;32m    261\u001b[0m         handles\u001b[38;5;241m.\u001b[39mhandle,\n\u001b[0;32m    262\u001b[0m         lineterminator\u001b[38;5;241m=\u001b[39m\u001b[38;5;28mself\u001b[39m\u001b[38;5;241m.\u001b[39mlineterminator,\n\u001b[1;32m   (...)\u001b[0m\n\u001b[0;32m    267\u001b[0m         quotechar\u001b[38;5;241m=\u001b[39m\u001b[38;5;28mself\u001b[39m\u001b[38;5;241m.\u001b[39mquotechar,\n\u001b[0;32m    268\u001b[0m     )\n\u001b[0;32m    270\u001b[0m     \u001b[38;5;28mself\u001b[39m\u001b[38;5;241m.\u001b[39m_save()\n",
      "File \u001b[1;32mc:\\Users\\Markus\\AppData\\Local\\Programs\\Python\\Python312\\Lib\\site-packages\\pandas\\io\\common.py:873\u001b[0m, in \u001b[0;36mget_handle\u001b[1;34m(path_or_buf, mode, encoding, compression, memory_map, is_text, errors, storage_options)\u001b[0m\n\u001b[0;32m    868\u001b[0m \u001b[38;5;28;01melif\u001b[39;00m \u001b[38;5;28misinstance\u001b[39m(handle, \u001b[38;5;28mstr\u001b[39m):\n\u001b[0;32m    869\u001b[0m     \u001b[38;5;66;03m# Check whether the filename is to be opened in binary mode.\u001b[39;00m\n\u001b[0;32m    870\u001b[0m     \u001b[38;5;66;03m# Binary mode does not support 'encoding' and 'newline'.\u001b[39;00m\n\u001b[0;32m    871\u001b[0m     \u001b[38;5;28;01mif\u001b[39;00m ioargs\u001b[38;5;241m.\u001b[39mencoding \u001b[38;5;129;01mand\u001b[39;00m \u001b[38;5;124m\"\u001b[39m\u001b[38;5;124mb\u001b[39m\u001b[38;5;124m\"\u001b[39m \u001b[38;5;129;01mnot\u001b[39;00m \u001b[38;5;129;01min\u001b[39;00m ioargs\u001b[38;5;241m.\u001b[39mmode:\n\u001b[0;32m    872\u001b[0m         \u001b[38;5;66;03m# Encoding\u001b[39;00m\n\u001b[1;32m--> 873\u001b[0m         handle \u001b[38;5;241m=\u001b[39m \u001b[38;5;28;43mopen\u001b[39;49m\u001b[43m(\u001b[49m\n\u001b[0;32m    874\u001b[0m \u001b[43m            \u001b[49m\u001b[43mhandle\u001b[49m\u001b[43m,\u001b[49m\n\u001b[0;32m    875\u001b[0m \u001b[43m            \u001b[49m\u001b[43mioargs\u001b[49m\u001b[38;5;241;43m.\u001b[39;49m\u001b[43mmode\u001b[49m\u001b[43m,\u001b[49m\n\u001b[0;32m    876\u001b[0m \u001b[43m            \u001b[49m\u001b[43mencoding\u001b[49m\u001b[38;5;241;43m=\u001b[39;49m\u001b[43mioargs\u001b[49m\u001b[38;5;241;43m.\u001b[39;49m\u001b[43mencoding\u001b[49m\u001b[43m,\u001b[49m\n\u001b[0;32m    877\u001b[0m \u001b[43m            \u001b[49m\u001b[43merrors\u001b[49m\u001b[38;5;241;43m=\u001b[39;49m\u001b[43merrors\u001b[49m\u001b[43m,\u001b[49m\n\u001b[0;32m    878\u001b[0m \u001b[43m            \u001b[49m\u001b[43mnewline\u001b[49m\u001b[38;5;241;43m=\u001b[39;49m\u001b[38;5;124;43m\"\u001b[39;49m\u001b[38;5;124;43m\"\u001b[39;49m\u001b[43m,\u001b[49m\n\u001b[0;32m    879\u001b[0m \u001b[43m        \u001b[49m\u001b[43m)\u001b[49m\n\u001b[0;32m    880\u001b[0m     \u001b[38;5;28;01melse\u001b[39;00m:\n\u001b[0;32m    881\u001b[0m         \u001b[38;5;66;03m# Binary mode\u001b[39;00m\n\u001b[0;32m    882\u001b[0m         handle \u001b[38;5;241m=\u001b[39m \u001b[38;5;28mopen\u001b[39m(handle, ioargs\u001b[38;5;241m.\u001b[39mmode)\n",
      "\u001b[1;31mPermissionError\u001b[0m: [Errno 13] Permission denied: 'c:\\\\Users\\\\Markus\\\\Documents\\\\GitHub\\\\FYS5429\\\\Project 1\\\\data\\\\scripts\\\\DataRetrieval\\\\Data/Streamflow/NVE_stations/Catchment1/NVEObservation1_48_0.cvs'"
     ]
    }
   ],
   "source": [
    "%run get-observations_csv.py -a CxS0G8bnxEGIOXolz/PBow== -s 1.48.0 -p 1001 -r 1440 -t /P1D"
   ]
  },
  {
   "cell_type": "code",
   "execution_count": null,
   "metadata": {},
   "outputs": [],
   "source": []
  }
 ],
 "metadata": {
  "kernelspec": {
   "display_name": "Python 3",
   "language": "python",
   "name": "python3"
  },
  "language_info": {
   "codemirror_mode": {
    "name": "ipython",
    "version": 3
   },
   "file_extension": ".py",
   "mimetype": "text/x-python",
   "name": "python",
   "nbconvert_exporter": "python",
   "pygments_lexer": "ipython3",
   "version": "3.12.2"
  }
 },
 "nbformat": 4,
 "nbformat_minor": 2
}
